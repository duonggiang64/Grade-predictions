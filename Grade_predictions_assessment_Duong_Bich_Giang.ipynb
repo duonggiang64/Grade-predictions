{
  "cells": [
    {
      "cell_type": "code",
      "execution_count": null,
      "id": "c071cc8c",
      "metadata": {
        "id": "c071cc8c"
      },
      "outputs": [],
      "source": [
        "# Import required libraries\n",
        "import numpy as np\n",
        "import pandas as pd\n",
        "import matplotlib.pyplot as plt\n",
        "import seaborn as sns\n",
        "%matplotlib inline\n",
        "import warnings\n",
        "warnings.filterwarnings('ignore')"
      ]
    },
    {
      "cell_type": "code",
      "execution_count": null,
      "id": "f3f625dc",
      "metadata": {
        "id": "f3f625dc",
        "outputId": "8ceb45da-d658-4895-c963-eae1ca22f130"
      },
      "outputs": [
        {
          "name": "stdout",
          "output_type": "stream",
          "text": [
            "<class 'pandas.core.frame.DataFrame'>\n",
            "RangeIndex: 309 entries, 0 to 308\n",
            "Data columns (total 31 columns):\n",
            " #   Column      Non-Null Count  Dtype \n",
            "---  ------      --------------  ----- \n",
            " 0   id          309 non-null    int64 \n",
            " 1   sex         309 non-null    object\n",
            " 2   age         309 non-null    int64 \n",
            " 3   address     309 non-null    object\n",
            " 4   famsize     309 non-null    object\n",
            " 5   Pstatus     309 non-null    object\n",
            " 6   Medu        309 non-null    int64 \n",
            " 7   Fedu        309 non-null    int64 \n",
            " 8   Mjob        309 non-null    object\n",
            " 9   Fjob        309 non-null    object\n",
            " 10  reason      309 non-null    object\n",
            " 11  guardian    309 non-null    object\n",
            " 12  traveltime  309 non-null    int64 \n",
            " 13  studytime   309 non-null    int64 \n",
            " 14  failures    309 non-null    int64 \n",
            " 15  schoolsup   309 non-null    object\n",
            " 16  famsup      309 non-null    object\n",
            " 17  paid        309 non-null    object\n",
            " 18  activities  309 non-null    object\n",
            " 19  nursery     309 non-null    object\n",
            " 20  higher      309 non-null    object\n",
            " 21  internet    309 non-null    object\n",
            " 22  romantic    309 non-null    object\n",
            " 23  famrel      309 non-null    int64 \n",
            " 24  freetime    309 non-null    int64 \n",
            " 25  goout       309 non-null    int64 \n",
            " 26  Dalc        309 non-null    int64 \n",
            " 27  Walc        309 non-null    int64 \n",
            " 28  health      309 non-null    int64 \n",
            " 29  absences    309 non-null    int64 \n",
            " 30  G1          309 non-null    int64 \n",
            "dtypes: int64(15), object(16)\n",
            "memory usage: 75.0+ KB\n"
          ]
        }
      ],
      "source": [
        "# Import dataset\n",
        "df = pd.read_csv('C:/Users/hacke/Downloads/train.csv', sep=';')\n",
        "df.info()"
      ]
    },
    {
      "cell_type": "code",
      "execution_count": null,
      "id": "0b99786d",
      "metadata": {
        "id": "0b99786d",
        "outputId": "775b5633-808f-48ae-8ffc-7fd8b514a49f"
      },
      "outputs": [
        {
          "data": {
            "text/html": [
              "<div>\n",
              "<style scoped>\n",
              "    .dataframe tbody tr th:only-of-type {\n",
              "        vertical-align: middle;\n",
              "    }\n",
              "\n",
              "    .dataframe tbody tr th {\n",
              "        vertical-align: top;\n",
              "    }\n",
              "\n",
              "    .dataframe thead th {\n",
              "        text-align: right;\n",
              "    }\n",
              "</style>\n",
              "<table border=\"1\" class=\"dataframe\">\n",
              "  <thead>\n",
              "    <tr style=\"text-align: right;\">\n",
              "      <th></th>\n",
              "      <th>id</th>\n",
              "      <th>sex</th>\n",
              "      <th>age</th>\n",
              "      <th>address</th>\n",
              "      <th>famsize</th>\n",
              "      <th>Pstatus</th>\n",
              "      <th>Medu</th>\n",
              "      <th>Fedu</th>\n",
              "      <th>Mjob</th>\n",
              "      <th>Fjob</th>\n",
              "      <th>...</th>\n",
              "      <th>internet</th>\n",
              "      <th>romantic</th>\n",
              "      <th>famrel</th>\n",
              "      <th>freetime</th>\n",
              "      <th>goout</th>\n",
              "      <th>Dalc</th>\n",
              "      <th>Walc</th>\n",
              "      <th>health</th>\n",
              "      <th>absences</th>\n",
              "      <th>G1</th>\n",
              "    </tr>\n",
              "  </thead>\n",
              "  <tbody>\n",
              "    <tr>\n",
              "      <th>0</th>\n",
              "      <td>1</td>\n",
              "      <td>0</td>\n",
              "      <td>16</td>\n",
              "      <td>1</td>\n",
              "      <td>0</td>\n",
              "      <td>1</td>\n",
              "      <td>4</td>\n",
              "      <td>4</td>\n",
              "      <td>3</td>\n",
              "      <td>3</td>\n",
              "      <td>...</td>\n",
              "      <td>1</td>\n",
              "      <td>0</td>\n",
              "      <td>3</td>\n",
              "      <td>2</td>\n",
              "      <td>3</td>\n",
              "      <td>1</td>\n",
              "      <td>2</td>\n",
              "      <td>2</td>\n",
              "      <td>6</td>\n",
              "      <td>13</td>\n",
              "    </tr>\n",
              "    <tr>\n",
              "      <th>1</th>\n",
              "      <td>2</td>\n",
              "      <td>1</td>\n",
              "      <td>15</td>\n",
              "      <td>1</td>\n",
              "      <td>0</td>\n",
              "      <td>1</td>\n",
              "      <td>2</td>\n",
              "      <td>2</td>\n",
              "      <td>2</td>\n",
              "      <td>2</td>\n",
              "      <td>...</td>\n",
              "      <td>1</td>\n",
              "      <td>0</td>\n",
              "      <td>4</td>\n",
              "      <td>2</td>\n",
              "      <td>2</td>\n",
              "      <td>1</td>\n",
              "      <td>2</td>\n",
              "      <td>5</td>\n",
              "      <td>2</td>\n",
              "      <td>12</td>\n",
              "    </tr>\n",
              "    <tr>\n",
              "      <th>2</th>\n",
              "      <td>3</td>\n",
              "      <td>0</td>\n",
              "      <td>16</td>\n",
              "      <td>1</td>\n",
              "      <td>0</td>\n",
              "      <td>1</td>\n",
              "      <td>4</td>\n",
              "      <td>3</td>\n",
              "      <td>4</td>\n",
              "      <td>1</td>\n",
              "      <td>...</td>\n",
              "      <td>1</td>\n",
              "      <td>0</td>\n",
              "      <td>3</td>\n",
              "      <td>4</td>\n",
              "      <td>4</td>\n",
              "      <td>2</td>\n",
              "      <td>4</td>\n",
              "      <td>4</td>\n",
              "      <td>2</td>\n",
              "      <td>10</td>\n",
              "    </tr>\n",
              "    <tr>\n",
              "      <th>3</th>\n",
              "      <td>4</td>\n",
              "      <td>0</td>\n",
              "      <td>17</td>\n",
              "      <td>1</td>\n",
              "      <td>0</td>\n",
              "      <td>0</td>\n",
              "      <td>4</td>\n",
              "      <td>4</td>\n",
              "      <td>2</td>\n",
              "      <td>4</td>\n",
              "      <td>...</td>\n",
              "      <td>0</td>\n",
              "      <td>0</td>\n",
              "      <td>4</td>\n",
              "      <td>1</td>\n",
              "      <td>4</td>\n",
              "      <td>1</td>\n",
              "      <td>1</td>\n",
              "      <td>1</td>\n",
              "      <td>6</td>\n",
              "      <td>6</td>\n",
              "    </tr>\n",
              "    <tr>\n",
              "      <th>4</th>\n",
              "      <td>5</td>\n",
              "      <td>1</td>\n",
              "      <td>15</td>\n",
              "      <td>1</td>\n",
              "      <td>0</td>\n",
              "      <td>1</td>\n",
              "      <td>3</td>\n",
              "      <td>4</td>\n",
              "      <td>2</td>\n",
              "      <td>2</td>\n",
              "      <td>...</td>\n",
              "      <td>1</td>\n",
              "      <td>0</td>\n",
              "      <td>3</td>\n",
              "      <td>4</td>\n",
              "      <td>3</td>\n",
              "      <td>1</td>\n",
              "      <td>2</td>\n",
              "      <td>4</td>\n",
              "      <td>6</td>\n",
              "      <td>14</td>\n",
              "    </tr>\n",
              "  </tbody>\n",
              "</table>\n",
              "<p>5 rows × 31 columns</p>\n",
              "</div>"
            ],
            "text/plain": [
              "   id  sex  age  address  famsize  Pstatus  Medu  Fedu  Mjob  Fjob  ...  \\\n",
              "0   1    0   16        1        0        1     4     4     3     3  ...   \n",
              "1   2    1   15        1        0        1     2     2     2     2  ...   \n",
              "2   3    0   16        1        0        1     4     3     4     1  ...   \n",
              "3   4    0   17        1        0        0     4     4     2     4  ...   \n",
              "4   5    1   15        1        0        1     3     4     2     2  ...   \n",
              "\n",
              "   internet  romantic  famrel  freetime  goout  Dalc  Walc  health  absences  \\\n",
              "0         1         0       3         2      3     1     2       2         6   \n",
              "1         1         0       4         2      2     1     2       5         2   \n",
              "2         1         0       3         4      4     2     4       4         2   \n",
              "3         0         0       4         1      4     1     1       1         6   \n",
              "4         1         0       3         4      3     1     2       4         6   \n",
              "\n",
              "   G1  \n",
              "0  13  \n",
              "1  12  \n",
              "2  10  \n",
              "3   6  \n",
              "4  14  \n",
              "\n",
              "[5 rows x 31 columns]"
            ]
          },
          "execution_count": 103,
          "metadata": {},
          "output_type": "execute_result"
        }
      ],
      "source": [
        "# Encoding categorical variables using LabelEncoder()\n",
        "from sklearn.preprocessing import LabelEncoder\n",
        "le=LabelEncoder()\n",
        "# Choose categorial columns\n",
        "cols = ['sex', 'address', 'famsize', 'Pstatus','Mjob','Fjob','reason','guardian','schoolsup','famsup','paid','activities','nursery','higher','internet','romantic']\n",
        "# Encode labels of multiple columns at once\n",
        "df[cols] = df[cols].apply(LabelEncoder().fit_transform)\n",
        "df.head(5)\n"
      ]
    },
    {
      "cell_type": "code",
      "execution_count": null,
      "id": "6d141cd9",
      "metadata": {
        "id": "6d141cd9"
      },
      "outputs": [],
      "source": [
        "# splitting the data into training and validation data (85% and 15%)\n",
        "X_train, X_valid, y_train, y_valid = train_test_split(df.drop('G1', axis =1), df['G1'], test_size = 0.15, random_state=42)"
      ]
    },
    {
      "cell_type": "code",
      "execution_count": null,
      "id": "07d2f159",
      "metadata": {
        "id": "07d2f159",
        "outputId": "c31b52d3-7dae-4b66-f066-60316cfb0d78"
      },
      "outputs": [
        {
          "name": "stdout",
          "output_type": "stream",
          "text": [
            "6.825664972328297\n"
          ]
        }
      ],
      "source": [
        "# Linear regression model\n",
        "from sklearn import metrics\n",
        "from sklearn.metrics import r2_score\n",
        "model = LinearRegression()\n",
        "model.fit(X_train,y_train)\n",
        "pred = model.predict(X_valid)\n",
        "mse_lr = mean_squared_error(y_valid,pred)\n",
        "print(mse_lr)"
      ]
    },
    {
      "cell_type": "code",
      "execution_count": null,
      "id": "cf5f1ee9",
      "metadata": {
        "id": "cf5f1ee9",
        "outputId": "9ae2ae9b-8007-4ad7-8f0b-1c0bb65e402a"
      },
      "outputs": [
        {
          "name": "stdout",
          "output_type": "stream",
          "text": [
            "Best parameters for RF model:\n",
            "RandomForestRegressor(max_depth=6, max_features=None, max_leaf_nodes=9,\n",
            "                      n_estimators=50, random_state=42)\n"
          ]
        }
      ],
      "source": [
        "from sklearn.ensemble import RandomForestRegressor\n",
        "from sklearn.model_selection import GridSearchCV,\\\n",
        "RandomizedSearchCV\n",
        "\n",
        "# RF model\n",
        "model = RandomForestRegressor(random_state=42)\n",
        "model.fit(X_train, y_train)\n",
        "\n",
        "# predict the model\n",
        "y_pred = model.predict(X_valid)\n",
        "\n",
        "# RF with different options for parameters\n",
        "param_grid = {'n_estimators': [25, 50, 100, 150],\n",
        "    'max_features': ['sqrt', 'log2', None],\n",
        "    'max_depth': [3, 6, 9],\n",
        "    'max_leaf_nodes': [3, 6, 9]}\n",
        "\n",
        "# Cross-validation\n",
        "grid_search = GridSearchCV(estimator=RandomForestRegressor(random_state=42),\n",
        "                           param_grid=param_grid, cv=5)\n",
        "grid_search.fit(X_train, y_train)\n",
        "best_model_rf = grid_search.best_estimator_\n",
        "best_params_rf = grid_search.best_params_\n",
        "print(f\"Best parameters for RF model:\\n{best_model_rf}\")"
      ]
    },
    {
      "cell_type": "code",
      "execution_count": null,
      "id": "c5fef2a2",
      "metadata": {
        "id": "c5fef2a2",
        "outputId": "efa23db1-8924-43ec-f4aa-4ae55163b2e0"
      },
      "outputs": [
        {
          "name": "stdout",
          "output_type": "stream",
          "text": [
            "6.187575150742541\n"
          ]
        }
      ],
      "source": [
        "# Fit validation dataset\n",
        "y_pred_grid_rf = best_model_rf.predict(X_valid)\n",
        "mse_rf= mean_squared_error(y_valid,y_pred_grid )\n",
        "print(mse_rf)\n"
      ]
    },
    {
      "cell_type": "code",
      "execution_count": null,
      "id": "b2854e0b",
      "metadata": {
        "id": "b2854e0b",
        "outputId": "11479093-e20f-4426-ef6c-bb07a0a1946d"
      },
      "outputs": [
        {
          "name": "stdout",
          "output_type": "stream",
          "text": [
            "The best model is Random Forest with MSE of 6.187575150742541\n"
          ]
        }
      ],
      "source": [
        "if mse_lr < mse_rf:\n",
        "    best_model = model\n",
        "    model_name = 'Linear Regression'\n",
        "else:\n",
        "    best_model = best_model_rf\n",
        "    model_name = 'Random Forest'\n",
        "\n",
        "print(f'The best model is {model_name} with MSE of {mse_lr if mse_lr < mse_rf else mse_rf}')"
      ]
    },
    {
      "cell_type": "code",
      "execution_count": null,
      "id": "1d884e98",
      "metadata": {
        "id": "1d884e98",
        "outputId": "971a7e7b-19d0-4fc6-e243-09637b71657e"
      },
      "outputs": [
        {
          "name": "stdout",
          "output_type": "stream",
          "text": [
            "     id         G1\n",
            "0   310  10.298360\n",
            "1   311  11.896745\n",
            "2   312  11.334900\n",
            "3   313  12.685672\n",
            "4   314  10.831194\n",
            "5   315  12.211917\n",
            "6   316  11.918682\n",
            "7   317  12.136896\n",
            "8   318  10.971415\n",
            "9   319  12.987964\n",
            "10  320  11.426628\n",
            "11  321  10.800201\n",
            "12  322  11.949781\n",
            "13  323  10.665677\n",
            "14  324  12.090119\n",
            "15  325   7.478609\n",
            "16  326  12.578072\n",
            "17  327  11.041923\n",
            "18  328  12.886224\n",
            "19  329  11.920432\n",
            "20  330  10.842378\n",
            "21  331  11.282137\n",
            "22  332  10.985529\n",
            "23  333  10.483399\n",
            "24  334   9.595466\n",
            "25  335  12.697674\n",
            "26  336  11.931906\n",
            "27  337  11.671689\n",
            "28  338  10.730310\n",
            "29  339  12.429120\n",
            "30  340  11.714082\n",
            "31  341  11.957243\n",
            "32  342   8.873887\n",
            "33  343   9.395241\n",
            "34  344  11.956252\n",
            "35  345   7.704572\n",
            "36  346   9.769935\n",
            "37  347  11.557240\n",
            "38  348  11.913677\n",
            "39  349  12.104726\n"
          ]
        }
      ],
      "source": [
        "# Build a forecast data from the test file\n",
        "# Load test.csv file\n",
        "df_test = pd.read_csv('C:/Users/hacke/Downloads/test.csv', sep=';')\n",
        "\n",
        "# Encoding categorical variables using LabelEncoder()\n",
        "from sklearn.preprocessing import LabelEncoder\n",
        "le=LabelEncoder()\n",
        "# Choose categorial columns\n",
        "cols = ['sex', 'address', 'famsize', 'Pstatus','Mjob','Fjob','reason','guardian','schoolsup','famsup','paid','activities','nursery','higher','internet','romantic']\n",
        "# Encode labels of multiple columns at once\n",
        "df_test[cols] = df_test[cols].apply(LabelEncoder().fit_transform)\n",
        "\n",
        "#Predictions on test data using RF model\n",
        "pred_test = best_model_rf.predict(df_test)\n",
        "\n",
        "# Create DataFrame with student ID an grade predictions\n",
        "predictions = pd.DataFrame({'id': df_test['id'], 'G1': pred_test})\n",
        "print(predictions)\n",
        "\n",
        "# Save to CSV file\n",
        "\n",
        "predictions.to_csv('C:/Users/hacke/Downloads/export_dataframe.csv', index=False, sep=';')"
      ]
    },
    {
      "cell_type": "code",
      "execution_count": null,
      "id": "940ffa69",
      "metadata": {
        "id": "940ffa69"
      },
      "outputs": [],
      "source": []
    }
  ],
  "metadata": {
    "kernelspec": {
      "display_name": "Python 3 (ipykernel)",
      "language": "python",
      "name": "python3"
    },
    "language_info": {
      "codemirror_mode": {
        "name": "ipython",
        "version": 3
      },
      "file_extension": ".py",
      "mimetype": "text/x-python",
      "name": "python",
      "nbconvert_exporter": "python",
      "pygments_lexer": "ipython3",
      "version": "3.9.13"
    },
    "colab": {
      "provenance": [],
      "toc_visible": true
    }
  },
  "nbformat": 4,
  "nbformat_minor": 5
}